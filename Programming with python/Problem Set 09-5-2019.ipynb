{
 "cells": [
  {
   "cell_type": "markdown",
   "metadata": {},
   "source": [
    "## Problem 1:\n",
    "### Statement \n",
    "For a given number, define a procedure check if it is divisible ny 2 and 3 but not 4.\n",
    "#### Constraints\n",
    "Given number will be in the range [1,1000000000]\n",
    "#### Test Cases\n",
    "* checkDivisibility(6) -> True\n",
    "* checkDivisibility(160) -> False\n",
    "* checkDivisibility(20) -> Flae "
   ]
  },
  {
   "cell_type": "code",
   "execution_count": 5,
   "metadata": {},
   "outputs": [
    {
     "name": "stdout",
     "output_type": "stream",
     "text": [
      "enter the number6\n"
     ]
    },
    {
     "data": {
      "text/plain": [
       "True"
      ]
     },
     "execution_count": 5,
     "metadata": {},
     "output_type": "execute_result"
    }
   ],
   "source": [
    "def checkDivisibility(n):\n",
    "    if(n%2==0 and n%3==0 and n%4!=0):\n",
    "        return True\n",
    "    else:\n",
    "        return False\n",
    "    \n",
    "n=int(input(\"enter the number\")   )\n",
    "checkDivisibility(n)"
   ]
  },
  {
   "cell_type": "markdown",
   "metadata": {},
   "source": [
    "## Problem 2:\n",
    "### Statement \n",
    "f(x)= x^3 + 2 X^2 + 3 X - 10 for x \n",
    "#### Constraints\n",
    "Given number will be in the range [1, 1000]\n",
    "#### Test Cases"
   ]
  },
  {
   "cell_type": "code",
   "execution_count": 5,
   "metadata": {},
   "outputs": [
    {
     "name": "stdout",
     "output_type": "stream",
     "text": [
      "enter the number3\n"
     ]
    },
    {
     "data": {
      "text/plain": [
       "44"
      ]
     },
     "execution_count": 5,
     "metadata": {},
     "output_type": "execute_result"
    }
   ],
   "source": [
    "def f(n):\n",
    "    if(n<1000):\n",
    "        x=(n**3)+2*(n**2)+3*n-10\n",
    "        return(x)\n",
    "    else:\n",
    "        return(\"not in range\")\n",
    "    \n",
    "n=int(input(\"enter the number\"))\n",
    "f(n)"
   ]
  },
  {
   "cell_type": "markdown",
   "metadata": {},
   "source": [
    "## Problem 3:\n",
    "### Statement \n",
    "Determining whether a number is Even or Odd\n",
    "#### Constraints\n",
    "#### Test Cases\n",
    "* checkeven(6) -> True\n",
    "* checkeven(1) -> False\n",
    "* checkeven(21) -> False "
   ]
  },
  {
   "cell_type": "code",
   "execution_count": 4,
   "metadata": {},
   "outputs": [
    {
     "name": "stdout",
     "output_type": "stream",
     "text": [
      "enter the number3\n"
     ]
    },
    {
     "data": {
      "text/plain": [
       "'False'"
      ]
     },
     "execution_count": 4,
     "metadata": {},
     "output_type": "execute_result"
    }
   ],
   "source": [
    "def checkeven(n):\n",
    "    if(n%2==0):\n",
    "        return(\"even\")\n",
    "    else:\n",
    "        return(\"False\")\n",
    "    \n",
    "n=int(input(\"enter the number\"))\n",
    "checkeven(n)"
   ]
  },
  {
   "cell_type": "markdown",
   "metadata": {},
   "source": [
    "## Problem 4:\n",
    "### Statement \n",
    "Finding the greatest of 3 numbers\n",
    "#### Constraints\n",
    "#### Test Cases\n",
    "* checkGreatest(6,7,8) ->8\n",
    "* checkGreatest(9,2,5) ->9\n",
    "* checkGreatest(21,50,1) ->50"
   ]
  },
  {
   "cell_type": "code",
   "execution_count": 3,
   "metadata": {},
   "outputs": [
    {
     "name": "stdout",
     "output_type": "stream",
     "text": [
      "enter a34\n",
      "enetr b67\n",
      "enter c12\n"
     ]
    },
    {
     "data": {
      "text/plain": [
       "67"
      ]
     },
     "execution_count": 3,
     "metadata": {},
     "output_type": "execute_result"
    }
   ],
   "source": [
    "def checkGreatest(a,b,c):\n",
    "    if(a>b and a>c):\n",
    "        return(a)\n",
    "    else:\n",
    "        if(b>c):\n",
    "            return(b)\n",
    "        else:\n",
    "            return(c)\n",
    "    \n",
    "a=int(input(\"enter a\"))\n",
    "b=int(input(\"enetr b\"))\n",
    "c=int(input(\"enter c\"))\n",
    "checkGreatest(a,b,c)"
   ]
  },
  {
   "cell_type": "markdown",
   "metadata": {},
   "source": [
    "## Problem 5:\n",
    "### Statement \n",
    "Given 2 ints, a and b, return True if one if them is 10 or if their sum is 10.\n",
    "#### Constraints\n",
    "#### Test Cases\n",
    "* makes10(9, 10) → True\n",
    "* makes10(9, 9) → False\n",
    "* makes10(1, 9) → True"
   ]
  },
  {
   "cell_type": "code",
   "execution_count": 28,
   "metadata": {},
   "outputs": [
    {
     "name": "stdout",
     "output_type": "stream",
     "text": [
      "False\n",
      "True\n"
     ]
    }
   ],
   "source": [
    "def makes10(a,b):\n",
    "    if(a==10 or b==10 or a+b==10):\n",
    "        print(\"True\")\n",
    "    else:\n",
    "        print(\"False\")\n",
    "    \n",
    "#a=int(input(\"enter the a\"))\n",
    "#b=int(input(\"enter the b\"))\n",
    "\n",
    "makes10(9,9)\n",
    "makes10(1,9)"
   ]
  },
  {
   "cell_type": "markdown",
   "metadata": {},
   "source": [
    "## Problem 6:\n",
    "### Statement \n",
    "Given 2 int values, return True if First parameter is negative and second parameter is positive. Except if the third parameter is True, then return True only if both are negative.\n",
    "#### Constraints\n",
    "#### Test Cases\n",
    "* pos_neg(1, -1, False) → True\n",
    "* pos_neg(-1, 1, False) → True\n",
    "* pos_neg(-4, -5, True) → True\n",
    "* pos_neg(-1, -9, False) -> False\n",
    "#### Explanation\n"
   ]
  },
  {
   "cell_type": "code",
   "execution_count": 75,
   "metadata": {},
   "outputs": [
    {
     "name": "stdout",
     "output_type": "stream",
     "text": [
      "True\n",
      "True\n",
      "True\n",
      "False\n"
     ]
    }
   ],
   "source": [
    "def pos_neg(a,b,bool):\n",
    "    if (a<0 and b>0 and bool==False) or (a>0 and b<0 and bool==False):\n",
    "        return True\n",
    "    elif(a<0 and b<0 and bool==True):\n",
    "        return True\n",
    "    else:\n",
    "        return False\n",
    "\n",
    "\n",
    "print(pos_neg(1, -1, False))       \n",
    "print(pos_neg(-1, 1, False))\n",
    "print(pos_neg(-4, -5, True))\n",
    "print(pos_neg(-1, -9, False))"
   ]
  },
  {
   "cell_type": "markdown",
   "metadata": {},
   "source": [
    "##### WITHOUT ELSE IF STATEMENTS"
   ]
  },
  {
   "cell_type": "code",
   "execution_count": 76,
   "metadata": {},
   "outputs": [
    {
     "name": "stdout",
     "output_type": "stream",
     "text": [
      "True\n",
      "True\n",
      "True\n",
      "False\n"
     ]
    }
   ],
   "source": [
    "def pos_neg(a,b,bool):\n",
    "    return((a<0 and b>0 and bool==False) or (a>0 and b<0 and bool==False)) or (a<0 and b<0 and bool==True)\n",
    "\n",
    "\n",
    "print(pos_neg(1, -1, False))       \n",
    "print(pos_neg(-1, 1, False))\n",
    "print(pos_neg(-4, -5, True))\n",
    "print(pos_neg(-1, -9, False))"
   ]
  },
  {
   "cell_type": "markdown",
   "metadata": {},
   "source": [
    "## Problem 7:\n",
    "### Statement \n",
    "Given an int n, return True if it is within 10 of 100 or 200.\n",
    "Note: abs(num) computes the absolute value of a number.\n",
    "#### Constraints\n",
    "#### Test Cases\n",
    "* near_hundred(93) → True\n",
    "* near_hundred(90) → True\n",
    "* near_hundred(89) → False"
   ]
  },
  {
   "cell_type": "code",
   "execution_count": 79,
   "metadata": {},
   "outputs": [
    {
     "name": "stdout",
     "output_type": "stream",
     "text": [
      "True\n",
      "True\n",
      "False\n"
     ]
    }
   ],
   "source": [
    "def near_hundred(n):\n",
    "    return(90<=n<=110 or 190<=n<=210) \n",
    "\n",
    "\n",
    "print(near_hundred(203))\n",
    "print(near_hundred(200))\n",
    "print(near_hundred(89))"
   ]
  },
  {
   "cell_type": "markdown",
   "metadata": {},
   "source": [
    "## Problem 8:\n",
    "### Statement \n",
    "Create a Random Number Generator as a Procedure which takes the Range(lb, ub) and returns a Random number in the given range\n",
    "#### Constraints\n",
    "lb < randomnumber < ub\n",
    "#### Test Cases\n",
    "* RandomGenerator(l,100) -> will be in range (1,100)"
   ]
  },
  {
   "cell_type": "code",
   "execution_count": 80,
   "metadata": {},
   "outputs": [
    {
     "data": {
      "text/plain": [
       "7"
      ]
     },
     "execution_count": 80,
     "metadata": {},
     "output_type": "execute_result"
    }
   ],
   "source": [
    "\n",
    "random.randrange(1,101,2)"
   ]
  },
  {
   "cell_type": "code",
   "execution_count": 81,
   "metadata": {},
   "outputs": [
    {
     "data": {
      "text/plain": [
       "6"
      ]
     },
     "execution_count": 81,
     "metadata": {},
     "output_type": "execute_result"
    }
   ],
   "source": [
    "import random \n",
    "def randomGenerator(lb,ub):\n",
    "    return (random.randrange(lb+1,ub))\n",
    "\n",
    "randomGenerator(1,101)"
   ]
  },
  {
   "cell_type": "markdown",
   "metadata": {},
   "source": [
    "## Problem 9:\n",
    "### Statement \n",
    "Given an interger N, Claculate the sum of N random numbers in the range [0,10000000000000)\n",
    "#### Constraints\n",
    "Number should be in range  [0,10000000000000)\n",
    "#### Test Cases"
   ]
  },
  {
   "cell_type": "code",
   "execution_count": 83,
   "metadata": {},
   "outputs": [
    {
     "data": {
      "text/plain": [
       "24817938"
      ]
     },
     "execution_count": 83,
     "metadata": {},
     "output_type": "execute_result"
    }
   ],
   "source": [
    "import random\n",
    "def sumRandomNumbers(n, lb, ub):\n",
    "    sum=0\n",
    "    for i in range(1,n+1):\n",
    "        return sum+random.randint(lb,ub)\n",
    "\n",
    "sumRandomNumbers(100, 1 , 100000000)"
   ]
  },
  {
   "cell_type": "markdown",
   "metadata": {},
   "source": [
    "## Problem 10:\n",
    "### Statement \n",
    "Design a procedure to perform Linear search on list of N unsorted unique numbers. It takes an array and the key element to be searched and returns the index of the element of key element if found. Else returns -1\n",
    "#### Constraints\n",
    "#### Test Cases"
   ]
  },
  {
   "cell_type": "code",
   "execution_count": 99,
   "metadata": {},
   "outputs": [
    {
     "name": "stdout",
     "output_type": "stream",
     "text": [
      "3\n",
      "-1\n"
     ]
    }
   ],
   "source": [
    "def Linearsearch(list,key):\n",
    "    for i in range (0,len(list)):\n",
    "        if(key==list[i]):\n",
    "            return i\n",
    "    return -1\n",
    " \n",
    "print(Linearsearch([1,4,8,3,0,5,6],3))\n",
    "print(Linearsearch([15,12,9,6,3,-3],0))\n",
    "\n"
   ]
  },
  {
   "cell_type": "markdown",
   "metadata": {},
   "source": [
    "## Problem 11:\n",
    "### Statement \n",
    "Procedure to calculate the factorial of a given number\n",
    "#### Constraints\n",
    "#### Test Cases"
   ]
  },
  {
   "cell_type": "code",
   "execution_count": 110,
   "metadata": {},
   "outputs": [
    {
     "name": "stdout",
     "output_type": "stream",
     "text": [
      "720\n",
      "120\n"
     ]
    }
   ],
   "source": [
    "def factorial(n):\n",
    "    fact=1\n",
    "    for i in range (1,n+1):\n",
    "        fact=fact*i\n",
    "    return fact\n",
    "    \n",
    "print(factorial(6))\n",
    "print(factorial(5))"
   ]
  },
  {
   "cell_type": "markdown",
   "metadata": {},
   "source": [
    "## Problem 12:\n",
    "### Statement \n",
    "Procedure to generate multiplication tables. \n",
    "#### Constraints\n",
    "#### Test Cases\n",
    "* MT(3, 5, 7) -> 3 X 5 = 15\n",
    "\n",
    "                               3 X 6 = 18\n",
    "\n",
    "                               3 X 7 = 21"
   ]
  },
  {
   "cell_type": "code",
   "execution_count": 114,
   "metadata": {},
   "outputs": [
    {
     "name": "stdout",
     "output_type": "stream",
     "text": [
      "3 * 5 = 15\n",
      "3 * 6 = 18\n",
      "3 * 7 = 21\n"
     ]
    }
   ],
   "source": [
    "def MT(n,lb,ub):\n",
    "    for i in range(lb,ub+1):\n",
    "        print(n, \"*\" , i ,\"=\" ,n*i)\n",
    "        \n",
    "MT(3, 5, 7)     "
   ]
  },
  {
   "cell_type": "markdown",
   "metadata": {},
   "source": [
    "## Problem 13:\n",
    "### Statement \n",
    "Procedure to print the list of factors of a given number.\n",
    "#### Constraints\n",
    "#### Test Cases\n",
    "* FactorList(6)  ->  1 2 3 6\n",
    "* FactorList (9) ->   1 3 9\n",
    "* FactorList (19) ->  1  19"
   ]
  },
  {
   "cell_type": "code",
   "execution_count": 121,
   "metadata": {},
   "outputs": [
    {
     "name": "stdout",
     "output_type": "stream",
     "text": [
      "1\n",
      "2\n",
      "3\n",
      "6\n",
      "\n",
      "\n",
      "1\n",
      "3\n",
      "9\n",
      "\n",
      "\n",
      "1\n",
      "19\n",
      "\n",
      "\n"
     ]
    }
   ],
   "source": [
    "def FactorList(n):\n",
    "    for i in range(1,n+1):\n",
    "        if(n%i==0):\n",
    "            print(i)\n",
    "    print(\"\\n\")   \n",
    "FactorList(6) \n",
    "FactorList (9) \n",
    "FactorList (19) "
   ]
  },
  {
   "cell_type": "markdown",
   "metadata": {},
   "source": [
    "## Problem 14:\n",
    "### Statement \n",
    "Procedure to check if a given number is Prime and returns a Boolean value.\n",
    "#### Constraints\n",
    "#### Test Cases\n",
    "* IsPrime(7) -> True\n",
    "* IsPrime(9) ->  False"
   ]
  },
  {
   "cell_type": "code",
   "execution_count": 128,
   "metadata": {},
   "outputs": [
    {
     "name": "stdout",
     "output_type": "stream",
     "text": [
      "(7, 'is prime')\n",
      "(9, 'not prime')\n"
     ]
    }
   ],
   "source": [
    "def IsPrime(n):\n",
    "    count=0\n",
    "    for i in range(2,n):\n",
    "        if(n%i==0):\n",
    "            count=count+1\n",
    "        \n",
    "        \n",
    "    if (count==0):\n",
    "        return (n,\"is prime\")\n",
    "    else:\n",
    "        return(n,\"not prime\")\n",
    "            \n",
    "print(IsPrime(7) )\n",
    "print(IsPrime(9))            "
   ]
  },
  {
   "cell_type": "markdown",
   "metadata": {},
   "source": [
    "## Problem 15:\n",
    "### Statement \n",
    "Procedure to count the number of digits in a given number.\n",
    "#### Constraints\n",
    "#### Test Cases\n",
    "* CountDigits(123456) ->  6\n",
    "*https://sites.google.com/view/gitam-2215316455-may-2k19/home ->  1"
   ]
  },
  {
   "cell_type": "code",
   "execution_count": 4,
   "metadata": {},
   "outputs": [
    {
     "name": "stdout",
     "output_type": "stream",
     "text": [
      "6\n",
      "1\n"
     ]
    }
   ],
   "source": [
    "def CountDigits(n):\n",
    "    count=0\n",
    "    if(n==0):\n",
    "        return 1\n",
    "    while(n>0):\n",
    "        n=int(n/10)\n",
    "        count=count+1\n",
    "        \n",
    "    return count\n",
    "    \n",
    "print(CountDigits(123456))\n",
    "print(CountDigits (0))\n",
    "\n"
   ]
  },
  {
   "cell_type": "markdown",
   "metadata": {},
   "source": [
    "## Problem 16:\n",
    "### Statement \n",
    "Procedure to check if a given number is a Perfect Number. ( Perfect number is a number for which the sum of all it's divisors is equal to the number itself)\n",
    "#### Constraints\n",
    "#### Test Cases\n",
    "* IsPerfect(3) -> False\n",
    "* IsPerfect (6) -> True"
   ]
  },
  {
   "cell_type": "code",
   "execution_count": 152,
   "metadata": {},
   "outputs": [
    {
     "name": "stdout",
     "output_type": "stream",
     "text": [
      "notperfect number 3\n",
      "perfect number 6\n"
     ]
    }
   ],
   "source": [
    "def IsPerfect(n):\n",
    "    sum=0\n",
    "    for i in range (1,n):\n",
    "        if(n%i==0):\n",
    "            sum=sum+i\n",
    "    if(sum==n):\n",
    "        print(\"perfect number\",n)\n",
    "    else:\n",
    "        print(\"notperfect number\",n)\n",
    "            \n",
    "IsPerfect(3)\n",
    "IsPerfect (6)"
   ]
  },
  {
   "cell_type": "markdown",
   "metadata": {},
   "source": [
    "## Problem 17:\n",
    "### Statement \n",
    "Procedure to generate the first N perfect numbers. \n",
    "#### Constraints\n",
    "#### Test Cases\n",
    "* GeneratePerfect(2) ->  6   28\n",
    "* GeneratePerfect (4) ->  6   28   496    8128"
   ]
  },
  {
   "cell_type": "code",
   "execution_count": null,
   "metadata": {},
   "outputs": [],
   "source": [
    "def GeneratePerfect(n):\n",
    "    for number in range (1,n)\n",
    "    while(count!=n):\n",
    "        sum=0\n",
    "    for i in range (1,n):\n",
    "        if(n%i==0):\n",
    "            sum=sum+i\n",
    "    if(sum==n):\n",
    "        print(\"perfect number\",n)\n",
    "        count=count+1\n",
    "        "
   ]
  },
  {
   "cell_type": "code",
   "execution_count": null,
   "metadata": {},
   "outputs": [],
   "source": []
  },
  {
   "cell_type": "code",
   "execution_count": null,
   "metadata": {},
   "outputs": [],
   "source": []
  }
 ],
 "metadata": {
  "kernelspec": {
   "display_name": "Python 3",
   "language": "python",
   "name": "python3"
  },
  "language_info": {
   "codemirror_mode": {
    "name": "ipython",
    "version": 3
   },
   "file_extension": ".py",
   "mimetype": "text/x-python",
   "name": "python",
   "nbconvert_exporter": "python",
   "pygments_lexer": "ipython3",
   "version": "3.7.3"
  }
 },
 "nbformat": 4,
 "nbformat_minor": 2
}
