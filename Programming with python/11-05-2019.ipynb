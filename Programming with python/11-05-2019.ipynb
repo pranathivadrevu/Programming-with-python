{
 "cells": [
  {
   "cell_type": "markdown",
   "metadata": {},
   "source": [
    "# Problem solving and Programming\n",
    "## Day No : 13\n",
    "## Date      : 11-May-2019\n",
    "## Name    : Pranathi"
   ]
  },
  {
   "cell_type": "markdown",
   "metadata": {},
   "source": [
    "### Day Objectives\n",
    "* Complete Problem set given on 10th May"
   ]
  },
  {
   "cell_type": "code",
   "execution_count": null,
   "metadata": {},
   "outputs": [],
   "source": []
  },
  {
   "cell_type": "markdown",
   "metadata": {},
   "source": [
    "# Recurssion\n",
    "### DEFINITION: Breakdown th complex problem into sub problems of lower complexity. Keep repeating this process untilwe reach the smallest possible sub problems to which we know the solution.\n",
    "### Problems that can solved in recurssion:\n",
    "* power of a number\n",
    "* Towers of Hanoi\n",
    "* Merge sort\n",
    "* Fibnocii Series\n",
    "* Factorial\n",
    "* GCD\n",
    "* Problems based on Iterations\n",
    "\n",
    "\n",
    "\n",
    "\n",
    "\n",
    "\n",
    "\n",
    "\n",
    "\n",
    "\n",
    "##Recursive Function\n",
    "Base Condition\n",
    "Recursive call(reduce paramater complexitiy)"
   ]
  },
  {
   "cell_type": "markdown",
   "metadata": {},
   "source": [
    "#### Iterations ( power of a number)"
   ]
  },
  {
   "cell_type": "code",
   "execution_count": 2,
   "metadata": {},
   "outputs": [
    {
     "name": "stdout",
     "output_type": "stream",
     "text": [
      "1024\n"
     ]
    }
   ],
   "source": [
    "def power(n,r):\n",
    "    prod=1\n",
    "    for i in range (1,r+1):\n",
    "        prod=prod*n\n",
    "    return prod    \n",
    "\n",
    "print(power(2,10))"
   ]
  },
  {
   "cell_type": "markdown",
   "metadata": {},
   "source": [
    "#### Recurssion(power of a number)"
   ]
  },
  {
   "cell_type": "code",
   "execution_count": 3,
   "metadata": {},
   "outputs": [
    {
     "data": {
      "text/plain": [
       "8"
      ]
     },
     "execution_count": 3,
     "metadata": {},
     "output_type": "execute_result"
    }
   ],
   "source": [
    "def recursivePower(n,r):\n",
    "    prod=1\n",
    "    if r==1:\n",
    "        return n\n",
    "    else:\n",
    "        return recursivePower(n,r-1)*n\n",
    "\n",
    "recursivePower(2,3)    "
   ]
  },
  {
   "cell_type": "markdown",
   "metadata": {},
   "source": [
    "## factorialof a number"
   ]
  },
  {
   "cell_type": "code",
   "execution_count": 4,
   "metadata": {},
   "outputs": [
    {
     "data": {
      "text/plain": [
       "120"
      ]
     },
     "execution_count": 4,
     "metadata": {},
     "output_type": "execute_result"
    }
   ],
   "source": [
    "def factorial(n):\n",
    "    if(n==1):\n",
    "        return n\n",
    "    else:\n",
    "        return factorial(n-1)*n\n",
    "    \n",
    "factorial(5)"
   ]
  },
  {
   "cell_type": "markdown",
   "metadata": {},
   "source": [
    "## Fibanocci series"
   ]
  },
  {
   "cell_type": "code",
   "execution_count": 5,
   "metadata": {},
   "outputs": [
    {
     "name": "stdout",
     "output_type": "stream",
     "text": [
      "2\n",
      "3\n"
     ]
    }
   ],
   "source": [
    "def fibnacii(n):\n",
    "    if(n==0):\n",
    "        return 0\n",
    "    if(n==1):\n",
    "        return 1\n",
    "    else:\n",
    "        return fibnacii(n-2)+fibnacii(n-1)\n",
    "    \n",
    "print(fibnacii(3))\n",
    "print(fibnacii(4))"
   ]
  },
  {
   "cell_type": "code",
   "execution_count": 6,
   "metadata": {},
   "outputs": [
    {
     "data": {
      "text/plain": [
       "6"
      ]
     },
     "execution_count": 6,
     "metadata": {},
     "output_type": "execute_result"
    }
   ],
   "source": [
    "## GCD of 2 numbers remains same when smaller parameter is reduced to the remainder \n",
    "#and the larger parameter is replaced by smaller parameter\n",
    "def gcdRecursive(a,b):\n",
    "    if(b%a==0):\n",
    "        return a\n",
    "    else:\n",
    "        return gcdRecursive(b%a,a)\n",
    "    \n",
    "gcdRecursive(12,42)"
   ]
  },
  {
   "cell_type": "code",
   "execution_count": null,
   "metadata": {},
   "outputs": [],
   "source": [
    "## iterative solution"
   ]
  },
  {
   "cell_type": "code",
   "execution_count": 7,
   "metadata": {},
   "outputs": [
    {
     "data": {
      "text/plain": [
       "3"
      ]
     },
     "execution_count": 7,
     "metadata": {},
     "output_type": "execute_result"
    }
   ],
   "source": [
    "def gcditerative(a,b):\n",
    "    r=b%a\n",
    "    if(r==0):\n",
    "        return a\n",
    "    while(r!=0):\n",
    "        r=b%a\n",
    "        b=a\n",
    "        a=r\n",
    "    return b\n",
    "\n",
    "\n",
    "gcditerative(12,39)"
   ]
  },
  {
   "cell_type": "code",
   "execution_count": null,
   "metadata": {},
   "outputs": [],
   "source": [
    "## Towers of Hanoi\n",
    "* n disks -> * move n-1 dsiks from source to temp\n",
    "           *  move nth disk from source to destination\n",
    "           * move n-1 disks from temp to dest\n",
    "3 disks -> * move 2 disks from source tp temp\n",
    "           * move 3rd disk from source to dest\n",
    "           * move 2 disks fromtemp to dest"
   ]
  },
  {
   "cell_type": "markdown",
   "metadata": {},
   "source": [
    "## Towers of Hnaoi program"
   ]
  },
  {
   "cell_type": "code",
   "execution_count": 8,
   "metadata": {},
   "outputs": [
    {
     "name": "stdout",
     "output_type": "stream",
     "text": [
      "move 1 disk from A to C\n",
      "move 2 disk from A to B\n",
      "move 1 disk from C to B\n",
      "move 3 disk from A to C\n",
      "move 1 disk from B to A\n",
      "move 2 disk from B to C\n",
      "move 1 disk from A to C\n"
     ]
    }
   ],
   "source": [
    "def towersOfHanoi(n,source,temp,dest):\n",
    "    if n==1:\n",
    "        print('move', n, 'disk from', source,'to',dest)\n",
    "        return\n",
    "    else:\n",
    "        towersOfHanoi(n-1,source,dest,temp)\n",
    "        print('move', n, 'disk from', source,'to',dest)\n",
    "        towersOfHanoi(n-1,temp,source,dest)\n",
    "        return\n",
    "\n",
    "towersOfHanoi(3,'A','B','C')\n"
   ]
  },
  {
   "cell_type": "markdown",
   "metadata": {},
   "source": [
    "##"
   ]
  },
  {
   "cell_type": "code",
   "execution_count": 9,
   "metadata": {},
   "outputs": [
    {
     "data": {
      "text/plain": [
       "2"
      ]
     },
     "execution_count": 9,
     "metadata": {},
     "output_type": "execute_result"
    }
   ],
   "source": [
    "\n",
    "def substring(str1,str2):\n",
    "    count=0\n",
    "    for j in range(0,len(str2)):\n",
    "        for a in range(len(str1),len(str2)):\n",
    "            if(str2[j:a+1]==str1):\n",
    "                count=count+1\n",
    "                \n",
    "    return count\n",
    "        \n",
    "                \n",
    "substring('33', '123322133')\n",
    "\n",
    "    \n",
    " "
   ]
  },
  {
   "cell_type": "markdown",
   "metadata": {},
   "source": [
    "## Problem 1\n",
    "### Statement\n",
    "Design a procedure to calculate the squareroot of a number \"without using the math function sqrt\".\n",
    "### Constraints\n",
    "### Test Cases\n",
    "* Squareroot(36) -> 6"
   ]
  },
  {
   "cell_type": "code",
   "execution_count": 10,
   "metadata": {},
   "outputs": [
    {
     "name": "stdout",
     "output_type": "stream",
     "text": [
      "6.0\n"
     ]
    }
   ],
   "source": [
    "\n",
    "def Squareroot(n):\n",
    "    return n**(1/2)\n",
    "\n",
    "print(Squareroot(36))"
   ]
  },
  {
   "cell_type": "code",
   "execution_count": null,
   "metadata": {},
   "outputs": [],
   "source": []
  },
  {
   "cell_type": "markdown",
   "metadata": {},
   "source": [
    "## Problem 1\n",
    "### Statement\n",
    "Define a function to convert a binary number to the corresponding decimal number\n",
    "### Constraints\n",
    "### Test Cases\n",
    "* binaryToDecimal(1100) -> 12\n",
    "* binaryToDecimal(1010) -> 10\n",
    "* binaryToDecimal((111000)) -> 56"
   ]
  },
  {
   "cell_type": "code",
   "execution_count": 11,
   "metadata": {},
   "outputs": [
    {
     "name": "stdout",
     "output_type": "stream",
     "text": [
      "14\n",
      "10\n",
      "56\n"
     ]
    }
   ],
   "source": [
    "def binarytodecimal(n):\n",
    "    count=-1\n",
    "    sum=0\n",
    "    k=len(str(n))\n",
    "    r=str(n)\n",
    "    \n",
    "    for i in range (k-1,-1,-1):\n",
    "        count=count+1\n",
    "        number=int(r[i])*(2**count)\n",
    "        sum=sum+number\n",
    "    return sum\n",
    "    \n",
    "print(binarytodecimal(1110))\n",
    "print(binarytodecimal(1010))\n",
    "print(binarytodecimal(111000))"
   ]
  },
  {
   "cell_type": "markdown",
   "metadata": {},
   "source": [
    "## Problem 1\n",
    "### Statement\n",
    "Define a function to convert a decimal number to the corresponding binary number\n",
    "### Constraints\n",
    "### Test Cases\n",
    "* decimalToBinary(15) -> 1111\n",
    "* decimalToBinary(1) -> 1"
   ]
  },
  {
   "cell_type": "code",
   "execution_count": 12,
   "metadata": {},
   "outputs": [
    {
     "name": "stdout",
     "output_type": "stream",
     "text": [
      "1111 \n",
      "1 \n"
     ]
    }
   ],
   "source": [
    "def decimaltobinary(n):\n",
    "    \n",
    "    rem=\" \"\n",
    "    while(n!=0):\n",
    "        r=n%2\n",
    "        n=int(n/2)\n",
    "        rem=rem+str(r)\n",
    "    s=''.join(reversed(rem))\n",
    "    print(s)\n",
    "        \n",
    "decimaltobinary(15)\n",
    "decimaltobinary(1)"
   ]
  },
  {
   "cell_type": "code",
   "execution_count": null,
   "metadata": {},
   "outputs": [],
   "source": []
  }
 ],
 "metadata": {
  "kernelspec": {
   "display_name": "Python 3",
   "language": "python",
   "name": "python3"
  },
  "language_info": {
   "codemirror_mode": {
    "name": "ipython",
    "version": 3
   },
   "file_extension": ".py",
   "mimetype": "text/x-python",
   "name": "python",
   "nbconvert_exporter": "python",
   "pygments_lexer": "ipython3",
   "version": "3.7.3"
  }
 },
 "nbformat": 4,
 "nbformat_minor": 2
}
