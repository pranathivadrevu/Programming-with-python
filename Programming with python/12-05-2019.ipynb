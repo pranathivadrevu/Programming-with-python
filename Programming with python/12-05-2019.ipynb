{
 "cells": [
  {
   "cell_type": "markdown",
   "metadata": {},
   "source": [
    "#"
   ]
  },
  {
   "cell_type": "markdown",
   "metadata": {},
   "source": [
    "# Problem solving and Programming\n",
    "## Day No : 14\n",
    "## Date      : 12-May-2019\n",
    "## Name    : Pranathi"
   ]
  },
  {
   "cell_type": "markdown",
   "metadata": {},
   "source": [
    "### Day Objectives\n",
    "* Complete Problem set given on 10THMAY\n",
    "* CALENDER "
   ]
  },
  {
   "cell_type": "markdown",
   "metadata": {},
   "source": [
    "### Problem 1\n",
    "### Statement\n",
    "Define a function to check if a given year is a leap year. Returns a boolean value\n",
    "### Constraints\n",
    "### Test Cases\n",
    "* 2000 -> True\n",
    "* 1900 -> False\n",
    "* 2012 -> True\n",
    "* 2020 -> True\n",
    "* 0200 -> False"
   ]
  },
  {
   "cell_type": "code",
   "execution_count": 1,
   "metadata": {},
   "outputs": [
    {
     "name": "stdout",
     "output_type": "stream",
     "text": [
      "False\n",
      "True\n",
      "False\n",
      "True\n"
     ]
    }
   ],
   "source": [
    "def leapyear(n):\n",
    "    if(n%400==0):\n",
    "        return True\n",
    "    elif(n%100==0):\n",
    "        return False\n",
    "    elif(n%4==0):\n",
    "        return True\n",
    "    \n",
    "    \n",
    "print(leapyear(1900) )\n",
    "print(leapyear(2000))\n",
    "print(leapyear(200))\n",
    "print(leapyear(2012))"
   ]
  },
  {
   "cell_type": "code",
   "execution_count": 2,
   "metadata": {},
   "outputs": [
    {
     "name": "stdout",
     "output_type": "stream",
     "text": [
      "False\n",
      "True\n",
      "False\n",
      "True\n"
     ]
    }
   ],
   "source": [
    "def leapyear(n):\n",
    "    if(n%400==0)or(n%100!=0 and n%4==0):\n",
    "        return True\n",
    "    else:\n",
    "        return False\n",
    "    \n",
    "    \n",
    "print(leapyear(1900) )\n",
    "print(leapyear(2000))\n",
    "print(leapyear(200))\n",
    "print(leapyear(2012))"
   ]
  },
  {
   "cell_type": "markdown",
   "metadata": {},
   "source": [
    "## Problem 1\n",
    "### Statement\n",
    "Design a Python script to determine the difference in date for given two dates\n",
    "in YYYY:MM:DD format(0 <= YYYY <= 9999, 1 <= MM <= 12, 1 <= DD <= 31)\n",
    "following the leap year rules. Return the total number of days existing between the two dates.\n",
    "### Constraints\n",
    "### Test Cases\n",
    "* dateDifference('2019:05:10', '2019:05:01') -> 9\n",
    "* dateDifference('0003:03:03', '0003:06:06') -> 95"
   ]
  },
  {
   "cell_type": "code",
   "execution_count": 11,
   "metadata": {},
   "outputs": [
    {
     "data": {
      "text/plain": [
       "759"
      ]
     },
     "execution_count": 11,
     "metadata": {},
     "output_type": "execute_result"
    }
   ],
   "source": [
    "def datedifference(date1,date2):\n",
    "    if yearFromDate(date1)==yearFromDate(date2):\n",
    "        return abs(totalDaysDate(date1)-totalDaysDate(date2))\n",
    "    elif(yearFromDate(date2)-yearFromDate(date1)==1):\n",
    "        return totalDaysDateFromEndofYear(date1)+totalDaysDate(date2)\n",
    "    else:\n",
    "        sum=totalDaysDateFromEndofYear(date1)+totalDaysDate(date2)\n",
    "        year1=yearFromDate(date1)\n",
    "        year2=yearFromDate(date2)\n",
    "        for i in range(year1+1,year2):\n",
    "            sum=sum+numDaysInYear(i)\n",
    "        return sum\n",
    "    \n",
    "def numDaysInMonth(month,year):\n",
    "    \n",
    "    if(month==2):\n",
    "        return DaysInFeb(year)\n",
    "    elif(month<=7  and month!=2 and month%2==0) or (month>7 and month%2!=0):\n",
    "        return 30\n",
    "    else:\n",
    "        return 31\n",
    "    \n",
    "def DaysInFeb(year):  \n",
    "    if(year%400==0)or(year%100!=0 and year%4==0):\n",
    "        return 29\n",
    "    else:\n",
    "        return 28\n",
    "\n",
    "    \n",
    "def numDaysInYear(year):\n",
    "    if(DaysInFeb(year)==29):\n",
    "        return 366\n",
    "    else:\n",
    "        return 365\n",
    "\n",
    "    \n",
    "def totalDaysDateFromEndofYear(date):\n",
    "    year=yearFromDate(date)\n",
    "    month=monthFromDate(date)\n",
    "    day=daysFromDate(date)\n",
    "    # day=int(date[8:10])\n",
    "    sum=0\n",
    "    for i in range(int(month+1),13):\n",
    "        sum=sum+numDaysInMonth(i,year)\n",
    "    sum=sum+(numDaysInMonth(month,year)-day+1)\n",
    "    return sum\n",
    "def totalDaysDate(date):\n",
    "    year=yearFromDate(date)\n",
    "    month=monthFromDate(date)\n",
    "    day=daysFromDate(date)\n",
    "    sum=0\n",
    "    for i in range(1,month):\n",
    "        sum+=numDaysInMonth(i,year)\n",
    "        sum+=day\n",
    "        return sum\n",
    "    \n",
    "def yearFromDate(date):\n",
    "    return int(date[:4])\n",
    "\n",
    "def monthFromDate(date):\n",
    "    return int(date[5:7])\n",
    "    \n",
    "def daysFromDate(date):\n",
    "    return int(date[len(date)-2:])\n",
    "\n",
    "\n",
    "#datedifference('0001:03:27','0001:06:03')\n",
    "datedifference('0001:01:31','0003:02:28')"
   ]
  },
  {
   "cell_type": "code",
   "execution_count": null,
   "metadata": {},
   "outputs": [],
   "source": []
  },
  {
   "cell_type": "code",
   "execution_count": 12,
   "metadata": {},
   "outputs": [
    {
     "name": "stdout",
     "output_type": "stream",
     "text": [
      "758 days, 0:00:00\n"
     ]
    }
   ],
   "source": [
    "from datetime import date,datetime \n",
    "def datedifference2(date1,date2):\n",
    "    year1=yearFromDate(date1)\n",
    "    month1=monthFromDate(date1)\n",
    "    day1=daysFromDate(date1)\n",
    "    year2=yearFromDate(date2)\n",
    "    month2=monthFromDate(date2)\n",
    "    day2=daysFromDate(date2)\n",
    "    d1=date(year=year1,month=month1,day=day1)\n",
    "    d2=date(year=year2,month=month2,day=day2)\n",
    "    print(d2-d1)\n",
    "    return \n",
    "\n",
    "datedifference2('0001:01:31','0003:02:28')"
   ]
  },
  {
   "cell_type": "code",
   "execution_count": 13,
   "metadata": {},
   "outputs": [
    {
     "data": {
      "text/plain": [
       "False"
      ]
     },
     "execution_count": 13,
     "metadata": {},
     "output_type": "execute_result"
    }
   ],
   "source": [
    "import calendar\n",
    "calendar.isleap(1900)"
   ]
  },
  {
   "cell_type": "code",
   "execution_count": null,
   "metadata": {},
   "outputs": [],
   "source": [
    "monthDays={'01':31,'03':31,'04':30,'05':31,'06':30,'07':31,'08':31,'09':30,'10':31,'11':30,'12':31}"
   ]
  },
  {
   "cell_type": "code",
   "execution_count": null,
   "metadata": {},
   "outputs": [],
   "source": []
  },
  {
   "cell_type": "code",
   "execution_count": null,
   "metadata": {},
   "outputs": [],
   "source": []
  },
  {
   "cell_type": "code",
   "execution_count": null,
   "metadata": {},
   "outputs": [],
   "source": []
  },
  {
   "cell_type": "code",
   "execution_count": null,
   "metadata": {},
   "outputs": [],
   "source": []
  },
  {
   "cell_type": "code",
   "execution_count": null,
   "metadata": {},
   "outputs": [],
   "source": []
  },
  {
   "cell_type": "code",
   "execution_count": null,
   "metadata": {},
   "outputs": [],
   "source": []
  }
 ],
 "metadata": {
  "kernelspec": {
   "display_name": "Python 3",
   "language": "python",
   "name": "python3"
  },
  "language_info": {
   "codemirror_mode": {
    "name": "ipython",
    "version": 3
   },
   "file_extension": ".py",
   "mimetype": "text/x-python",
   "name": "python",
   "nbconvert_exporter": "python",
   "pygments_lexer": "ipython3",
   "version": "3.7.3"
  }
 },
 "nbformat": 4,
 "nbformat_minor": 2
}
