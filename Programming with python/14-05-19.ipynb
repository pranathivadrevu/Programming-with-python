{
 "cells": [
  {
   "cell_type": "markdown",
   "metadata": {},
   "source": [
    "# Problem solving and Programming\n",
    "## Day No : \n",
    "## Date      : 14-May-2019\n",
    "## Name    : Pranathi"
   ]
  },
  {
   "cell_type": "markdown",
   "metadata": {},
   "source": [
    "### Day Objectives\n",
    "*  Problem set given on 12th May\n",
    "* TO PRINT OUTER MATRIX"
   ]
  },
  {
   "cell_type": "markdown",
   "metadata": {},
   "source": []
  },
  {
   "cell_type": "markdown",
   "metadata": {},
   "source": [
    "## Problem 1\n",
    "### Statement\n",
    "Define a function to print the sequence of Outer Matrix elements for a given N x N matrix\n",
    "### Constraints\n",
    "### Test Cases\n",
    "* OuterMatrix([[1,2,3], [4,5,6], [7,8,9]]) -> 1 2 3 6 9 8 7 4 5"
   ]
  },
  {
   "cell_type": "code",
   "execution_count": 1,
   "metadata": {},
   "outputs": [
    {
     "name": "stdout",
     "output_type": "stream",
     "text": [
      "1 2 3 6 9 12 11 10 7 4 "
     ]
    }
   ],
   "source": [
    "def rowprint(a,r,rs,nc):\n",
    "    for i in range(rs,nc):\n",
    "        print(a[r][i],end=' ')\n",
    "    \n",
    "    \n",
    "def columnprint(a,c,cs,nr):\n",
    "    for i in range(cs,nr):\n",
    "        print(a[i][c],end=' ')\n",
    "    \n",
    "def revrowprint(a,r,rs,nc):\n",
    "    for i in range(nc-rs-1,-1,-1):\n",
    "        print(a[r][i],end=' ')\n",
    "    \n",
    "def revcolumnprint(a,c,cstr,cstp,nr):\n",
    "    for i in range(nr-1-cstr,cstp,-1):\n",
    "        print(a[i][c],end=' ')\n",
    "    \n",
    "def outermatrix(m1,nr,nc):   \n",
    "    rowprint(m1,0,0,nc)\n",
    "    columnprint(m1 , nc-1, 1, nr)\n",
    "    revrowprint(m1,nr-1,nc-2,nc)\n",
    "    revcolumnprint(m1,0,nr-3,0,nr)   \n",
    "\n",
    "m1=[[1,2,3], [4,5,6], [7,8,9],[10,11,12]]\n",
    "outermatrix(m1,4,3)\n"
   ]
  },
  {
   "cell_type": "code",
   "execution_count": null,
   "metadata": {},
   "outputs": [],
   "source": []
  },
  {
   "cell_type": "code",
   "execution_count": null,
   "metadata": {},
   "outputs": [],
   "source": []
  },
  {
   "cell_type": "code",
   "execution_count": null,
   "metadata": {},
   "outputs": [],
   "source": []
  },
  {
   "cell_type": "code",
   "execution_count": null,
   "metadata": {},
   "outputs": [],
   "source": []
  }
 ],
 "metadata": {
  "kernelspec": {
   "display_name": "Python 3",
   "language": "python",
   "name": "python3"
  },
  "language_info": {
   "codemirror_mode": {
    "name": "ipython",
    "version": 3
   },
   "file_extension": ".py",
   "mimetype": "text/x-python",
   "name": "python",
   "nbconvert_exporter": "python",
   "pygments_lexer": "ipython3",
   "version": "3.7.3"
  }
 },
 "nbformat": 4,
 "nbformat_minor": 2
}
