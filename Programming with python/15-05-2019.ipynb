{
 "cells": [
  {
   "cell_type": "code",
   "execution_count": 1,
   "metadata": {},
   "outputs": [
    {
     "name": "stdout",
     "output_type": "stream",
     "text": [
      "match\n"
     ]
    }
   ],
   "source": [
    "import re # re is predefined functions\n",
    "#pattern ='^[a-z]{2,9}$'\n",
    "pattern = '^[a-z0-9]{2,10}'\n",
    "domain ='go'\n",
    "if re.match(pattern,domain):\n",
    "    print('match')\n",
    "else:\n",
    "    print('didnt match')     "
   ]
  },
  {
   "cell_type": "code",
   "execution_count": 2,
   "metadata": {},
   "outputs": [
    {
     "name": "stdout",
     "output_type": "stream",
     "text": [
      "Match\n"
     ]
    }
   ],
   "source": [
    "#postal code validation\n",
    "import re\n",
    "pattern = '^[1-9][0-9]{5}$'\n",
    "domain = '500024'\n",
    "if re.match(pattern,domain):\n",
    "    print('Match')\n",
    "else:\n",
    "    print(\"dM\")"
   ]
  },
  {
   "cell_type": "code",
   "execution_count": 4,
   "metadata": {},
   "outputs": [
    {
     "name": "stdout",
     "output_type": "stream",
     "text": [
      "Match\n"
     ]
    }
   ],
   "source": [
    "# phone number validation\n",
    "import re\n",
    "pattern= '^[+][9][1][-][6-9][0-9]{9}$'\n",
    "domain = '+91-9502488630'\n",
    "if re.match(pattern,domain):\n",
    "    print('Match')\n",
    "else:\n",
    "    print(\"dM\")"
   ]
  },
  {
   "cell_type": "markdown",
   "metadata": {},
   "source": [
    "## Define a function to validate email addresses based on the following rules.\n",
    "\n",
    "###  -> Email should be in the format username@domain.extension\n",
    "### -> username must start with an alphabet and can contain lowercase alphabet, digits, hyphen(-) and underscores( _ ).\n",
    "### -> username must not contain special characters, uppercase letters, whitespaces.\n",
    "### -> Length of username must be in the range (6, 16)\n",
    "### -> Domain can only contain lowercase alphabet and digits with length in range (3, 10) . No special characters are allowed\n",
    "### -> Extension can only contain lower case alphabet and its length must be in the range (2, 4)"
   ]
  },
  {
   "cell_type": "code",
   "execution_count": 6,
   "metadata": {},
   "outputs": [
    {
     "name": "stdout",
     "output_type": "stream",
     "text": [
      "dM\n"
     ]
    }
   ],
   "source": [
    "import re\n",
    "pattern= '^[a-z][a-z0-9-_]{5,14}[@][a-z]{3,9}[.][a-z]{2,3}$'\n",
    "domain = 'prannuvad@gma!il.com'\n",
    "if re.match(pattern,domain):\n",
    "    print('Match')\n",
    "else:\n",
    "    print(\"dM\")"
   ]
  },
  {
   "cell_type": "code",
   "execution_count": 3,
   "metadata": {},
   "outputs": [
    {
     "name": "stdout",
     "output_type": "stream",
     "text": [
      "Match\n"
     ]
    }
   ],
   "source": [
    "import re\n",
    "pattern='^(?=.*[a-z])(?=.*[A-Z])(?=.*[0-9])(?=.*[!@#$&$]).{6,20}'\n",
    "domain='prAnathi23@10'\n",
    "if re.match(pattern,domain):\n",
    "    print('Match')\n",
    "else:\n",
    "    print(\"dM\")"
   ]
  },
  {
   "cell_type": "code",
   "execution_count": null,
   "metadata": {},
   "outputs": [],
   "source": []
  },
  {
   "cell_type": "code",
   "execution_count": null,
   "metadata": {},
   "outputs": [],
   "source": []
  }
 ],
 "metadata": {
  "kernelspec": {
   "display_name": "Python 3",
   "language": "python",
   "name": "python3"
  },
  "language_info": {
   "codemirror_mode": {
    "name": "ipython",
    "version": 3
   },
   "file_extension": ".py",
   "mimetype": "text/x-python",
   "name": "python",
   "nbconvert_exporter": "python",
   "pygments_lexer": "ipython3",
   "version": "3.7.3"
  }
 },
 "nbformat": 4,
 "nbformat_minor": 2
}
