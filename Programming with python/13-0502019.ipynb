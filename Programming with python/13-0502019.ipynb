{
 "cells": [
  {
   "cell_type": "markdown",
   "metadata": {},
   "source": [
    "# Problem solving and Programming\n",
    "## Day No : \n",
    "## Date      : 13-May-2019\n",
    "## Name    : Pranathi"
   ]
  },
  {
   "cell_type": "markdown",
   "metadata": {},
   "source": [
    "### Day Objectives\n",
    "*  Problem set given on 12th May"
   ]
  },
  {
   "cell_type": "markdown",
   "metadata": {},
   "source": [
    "## Problem 1\n",
    "### Statement\n",
    "You are given n words. Some words may repeat. For each word, output its number of occurrences. \n",
    "The output order should correspond with the input order of appearance of the word. \n",
    "First line of input contains the total number of words n. Next n lines contain words that need to processed.\n",
    "First line of the output should contain the total number distinct words. Second line of output must contain the \n",
    "frequency of words the same order of their appearance as in the input\n",
    "### Constraints\n",
    "### Test Cases\n",
    "* Sample Input :  6\n",
    "\n",
    "abcd\n",
    "\n",
    "ijkl\n",
    "\n",
    "abcd\n",
    "\n",
    "pqrs\n",
    "\n",
    "abcd\n",
    "\n",
    "ijkl\n",
    "\n",
    "Sample Output :   3\n",
    "\n",
    "3  2   1\n",
    "\n"
   ]
  },
  {
   "cell_type": "code",
   "execution_count": null,
   "metadata": {},
   "outputs": [],
   "source": [
    "def wordCount(wc, words):\n",
    "    j = 0\n",
    "    list1 = []\n",
    "    dict1 = {}\n",
    "    list2 = []\n",
    "    for i in range(0, len(words)):\n",
    "        if(words[i] == ' '):\n",
    "            list1.append(words[j:i])\n",
    "            j = i+1\n",
    "            \n",
    "    j = len(words)-1\n",
    "    for i in range(len(words)-1, -1, -1):\n",
    "        if(words[i] == ' '):\n",
    "            list1.append(words[i+1:j+1])\n",
    "            break\n",
    "\n",
    "    for i in list1:\n",
    "        if(i in dict1):\n",
    "            dict1[i] += 1\n",
    "            \n",
    "        else:\n",
    "            dict1[i] = 1\n",
    "            list2.append(i)\n",
    "            wcc = len(list2)\n",
    "            \n",
    "    print(wcc)\n",
    "    for i in dict1:\n",
    "        print(dict1[i], end = ' ')\n",
    "    \n",
    "wordCount(6, 'abcd ijkl abcd pqrs abcd ijkl')"
   ]
  }
 ],
 "metadata": {
  "kernelspec": {
   "display_name": "Python 3",
   "language": "python",
   "name": "python3"
  },
  "language_info": {
   "codemirror_mode": {
    "name": "ipython",
    "version": 3
   },
   "file_extension": ".py",
   "mimetype": "text/x-python",
   "name": "python",
   "nbconvert_exporter": "python",
   "pygments_lexer": "ipython3",
   "version": "3.7.3"
  }
 },
 "nbformat": 4,
 "nbformat_minor": 2
}
