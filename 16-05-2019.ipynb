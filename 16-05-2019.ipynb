{
 "cells": [
  {
   "cell_type": "markdown",
   "metadata": {},
   "source": [
    "# Problem Solving and Programming\n",
    "\n",
    "## Day 18\n",
    "\n",
    "## Date : 16th May , 2019"
   ]
  },
  {
   "cell_type": "markdown",
   "metadata": {},
   "source": [
    "### Objectives\n",
    "* File Handling\n",
    "* External Libraries\n",
    "* Fuctional Programming"
   ]
  },
  {
   "cell_type": "code",
   "execution_count": null,
   "metadata": {},
   "outputs": [],
   "source": [
    "## Problem 1 :\n",
    "\n",
    "Define a Function to read a data from text file\n",
    "\n",
    "### Constraints : Given number to be in the range of [1,1000]\n",
    "\n",
    "### Test Cases\n",
    "* Test case 1\n",
    "* Test case 2"
   ]
  },
  {
   "cell_type": "code",
   "execution_count": 1,
   "metadata": {},
   "outputs": [
    {
     "data": {
      "text/plain": [
       "'Data in line 1\\n'"
      ]
     },
     "execution_count": 1,
     "metadata": {},
     "output_type": "execute_result"
    }
   ],
   "source": [
    "def readFileData(filename):\n",
    "    f=open(filename,'r')\n",
    "    filedata=f.readline() \n",
    "    f.close()\n",
    "    return filedata\n",
    "\n",
    "readFileData('DataFiles/data.txt')"
   ]
  },
  {
   "cell_type": "code",
   "execution_count": 2,
   "metadata": {},
   "outputs": [
    {
     "data": {
      "text/plain": [
       "'Data in line 1\\nData in line 2\\nData in line 3'"
      ]
     },
     "execution_count": 2,
     "metadata": {},
     "output_type": "execute_result"
    }
   ],
   "source": [
    "def readFileData(filename):\n",
    "    f=open(filename,'r')\n",
    "    filedata=f.read() \n",
    "    f.close()\n",
    "    return filedata\n",
    "\n",
    "readFileData('DataFiles/data.txt')"
   ]
  },
  {
   "cell_type": "code",
   "execution_count": 9,
   "metadata": {},
   "outputs": [
    {
     "name": "stdout",
     "output_type": "stream",
     "text": [
      "Data in line 1\n",
      "Data in line 2\n",
      "Data in line 3"
     ]
    }
   ],
   "source": [
    "def readFileData(filename):\n",
    "    with open(filename,'r') as f:\n",
    "        for line in f:\n",
    "            print(line,end='')\n",
    "    return \n",
    "\n",
    "\n",
    "readFileData('DataFiles/data.txt')"
   ]
  },
  {
   "cell_type": "code",
   "execution_count": null,
   "metadata": {},
   "outputs": [],
   "source": []
  },
  {
   "cell_type": "code",
   "execution_count": null,
   "metadata": {},
   "outputs": [],
   "source": []
  },
  {
   "cell_type": "code",
   "execution_count": null,
   "metadata": {},
   "outputs": [],
   "source": []
  },
  {
   "cell_type": "code",
   "execution_count": null,
   "metadata": {},
   "outputs": [],
   "source": []
  },
  {
   "cell_type": "code",
   "execution_count": 10,
   "metadata": {},
   "outputs": [
    {
     "name": "stdout",
     "output_type": "stream",
     "text": [
      "Data in line 1\n",
      "Data in line 2\n",
      "Data in line 3\n"
     ]
    }
   ],
   "source": [
    "def readFileData(filename):\n",
    "    with open(filename,'r') as f:\n",
    "        print(f.read())\n",
    "    return \n",
    "\n",
    "\n",
    "readFileData('DataFiles/data.txt')"
   ]
  },
  {
   "cell_type": "code",
   "execution_count": 12,
   "metadata": {},
   "outputs": [],
   "source": [
    "def writeIntoFile(filename,data):\n",
    "    with open(filename,'w') as f:\n",
    "        f.write(data)\n",
    "    return \n",
    "\n",
    "writeIntoFile('DataFiles/filewrite.txt','data written into file type')"
   ]
  },
  {
   "cell_type": "code",
   "execution_count": 14,
   "metadata": {},
   "outputs": [],
   "source": [
    "# to mode either read or write or append\n",
    "def writeIntoFile(filename,data,mode):\n",
    "    with open(filename,mode) as f:\n",
    "        f.write(data)\n",
    "    return \n",
    "\n",
    "writeIntoFile('DataFiles/filewrite.txt','second line is appended','a')\n"
   ]
  },
  {
   "cell_type": "code",
   "execution_count": 16,
   "metadata": {},
   "outputs": [],
   "source": [
    "# to start in next line \n",
    "def writeIntoFile(filename,data,mode):\n",
    "    with open(filename,mode) as f:\n",
    "        f.write(data)\n",
    "    return \n",
    "\n",
    "writeIntoFile('DataFiles/filewrite.txt',' \\n third line','a')\n"
   ]
  },
  {
   "cell_type": "markdown",
   "metadata": {},
   "source": [
    "## Problem 1 :\n",
    "\n",
    "Define a Function to generate a Marks data file for 1300 students such that each mark should be enetered in a new line.\n",
    "Marks range from (0,100) (both are inclusive) as random numbers\n",
    "\n",
    "### Constraints : Given number to be in the range of [1,1000]\n",
    "\n",
    "### Test Cases\n",
    "* Test case 1\n",
    "* Test case 2"
   ]
  },
  {
   "cell_type": "code",
   "execution_count": 24,
   "metadata": {},
   "outputs": [],
   "source": [
    "import random\n",
    "def genfiles(n,filename):\n",
    "    for i in range(0,n):\n",
    "        x=str(random.randrange(0,101))\n",
    "        y=str(x+'\\n')\n",
    "        writeIntoFile(filename,y,'a')\n",
    "            \n",
    "def writeIntoFile(filename,data,mode):\n",
    "    with open(filename,mode) as f:\n",
    "        f.write(data)\n",
    "    return \n",
    "\n",
    "genfiles(1300,'DataFiles/Marks1.txt')       \n",
    "       \n",
    "        "
   ]
  },
  {
   "cell_type": "markdown",
   "metadata": {},
   "source": [
    "## Problem 2 :\n",
    "Generate a areport on the marks data with the following inidcators\n",
    "* Highest Marks :\n",
    "* Lowest Marks :\n",
    "* Average Marks : \n",
    "* No. of students with distinction(>80) :\n",
    "* No. of students with first class(>60) :\n",
    "* No. of students with second class(>50) :\n",
    "* No. of students with third class(>40) :\n",
    "* No. of students failed(<40) :\n",
    "### Constraints : Given number to be in the range of [1,1000]\n",
    "\n",
    "### Test Cases\n",
    "* Test case 1\n",
    "* Test case 2"
   ]
  },
  {
   "cell_type": "code",
   "execution_count": 2,
   "metadata": {},
   "outputs": [
    {
     "name": "stdout",
     "output_type": "stream",
     "text": [
      "No of students Distinction 281\n",
      "No of students in Second class 112\n",
      "No of students in First class 244\n",
      "No of students in third class 126\n",
      "No of students Fail 523\n",
      "highest marks 100\n",
      "Lowestt marks 0\n",
      "average marks 50.0\n"
     ]
    },
    {
     "data": {
      "text/plain": [
       "0.002440474999957587"
      ]
     },
     "execution_count": 2,
     "metadata": {},
     "output_type": "execute_result"
    }
   ],
   "source": [
    "import timeit\n",
    "def readFileData(filename):\n",
    "    start=timeit.default_timer()\n",
    "    l=[]\n",
    "    with open(filename,'r') as f:\n",
    "        for line in f:\n",
    "            l.append(int(line))\n",
    "\n",
    "    dist=0\n",
    "    fc=0\n",
    "    sc=0\n",
    "    ts=0\n",
    "    fail=0\n",
    "    for i in range(0,1300):\n",
    "        if(l[i]>80):\n",
    "            dist=dist+1   \n",
    "        elif(l[i]>60):\n",
    "            fc=fc+1\n",
    "        elif(l[i]>50):\n",
    "            sc=sc+1       \n",
    "        elif(l[i]>40):\n",
    "            ts=ts+1\n",
    "        elif(l[i]<40):\n",
    "            fail=fail+1\n",
    "    print(\"No of students Distinction\",dist)  \n",
    "    print(\"No of students in Second class\",sc) \n",
    "    print(\"No of students in First class\",fc)\n",
    "    print(\"No of students in third class\",ts) \n",
    "    print(\"No of students Fail\",fail) \n",
    "    print(\"highest marks\",max(l))\n",
    "    print(\"Lowestt marks\",min(l))\n",
    "    avg=(max(l)+min(l))/2\n",
    "    print(\"average marks\",avg)\n",
    "    return timeit.default_timer()-start\n",
    "\n",
    "readFileData('DataFiles/Marks1.txt')"
   ]
  },
  {
   "cell_type": "code",
   "execution_count": null,
   "metadata": {},
   "outputs": [],
   "source": []
  },
  {
   "cell_type": "code",
   "execution_count": null,
   "metadata": {},
   "outputs": [],
   "source": []
  },
  {
   "cell_type": "code",
   "execution_count": null,
   "metadata": {},
   "outputs": [],
   "source": []
  }
 ],
 "metadata": {
  "kernelspec": {
   "display_name": "Python 3",
   "language": "python",
   "name": "python3"
  },
  "language_info": {
   "codemirror_mode": {
    "name": "ipython",
    "version": 3
   },
   "file_extension": ".py",
   "mimetype": "text/x-python",
   "name": "python",
   "nbconvert_exporter": "python",
   "pygments_lexer": "ipython3",
   "version": "3.7.3"
  }
 },
 "nbformat": 4,
 "nbformat_minor": 2
}
